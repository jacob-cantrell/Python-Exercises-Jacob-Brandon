{
 "cells": [
  {
   "cell_type": "markdown",
   "id": "d07c8cb4",
   "metadata": {},
   "source": [
    "# Python Exercises"
   ]
  },
  {
   "cell_type": "code",
   "execution_count": 3,
   "id": "7d945cfe",
   "metadata": {},
   "outputs": [
    {
     "name": "stdout",
     "output_type": "stream",
     "text": [
      "r\n"
     ]
    }
   ],
   "source": [
    "# 1 - Write a string index that returns just the letter 'r'  from 'Hello World' .\n",
    "str1 = 'Hello World'\n",
    "\n",
    "for letter in str1:\n",
    "    if letter == 'r':\n",
    "        print(letter)"
   ]
  },
  {
   "cell_type": "code",
   "execution_count": 4,
   "id": "59bcb657",
   "metadata": {},
   "outputs": [
    {
     "data": {
      "text/plain": [
       "'r'"
      ]
     },
     "execution_count": 4,
     "metadata": {},
     "output_type": "execute_result"
    }
   ],
   "source": [
    "# 1 - Write a string index that returns just the letter 'r'  from 'Hello World' . (pt 2)\n",
    "str1[-3]"
   ]
  },
  {
   "cell_type": "code",
   "execution_count": 7,
   "id": "39c96b30",
   "metadata": {},
   "outputs": [
    {
     "data": {
      "text/plain": [
       "'ink'"
      ]
     },
     "execution_count": 7,
     "metadata": {},
     "output_type": "execute_result"
    }
   ],
   "source": [
    "# 2 - Use string slicing to grab the word 'ink'  from inside 'tinker‘\n",
    "str2 = 'tinker'\n",
    "str2[1:-2]"
   ]
  },
  {
   "cell_type": "code",
   "execution_count": 8,
   "id": "e5a00c81",
   "metadata": {},
   "outputs": [
    {
     "name": "stdout",
     "output_type": "stream",
     "text": [
      "Python rules!\n"
     ]
    }
   ],
   "source": [
    "# 3 - Write an expression using any of the string formatting methods we have learned to \n",
    "#     return the phrase 'Python rules!‘\n",
    "str1 = 'Python'\n",
    "str2 = 'rules'\n",
    "print(f'{str1} {str2}!')"
   ]
  },
  {
   "cell_type": "code",
   "execution_count": 10,
   "id": "230a4469",
   "metadata": {},
   "outputs": [
    {
     "data": {
      "text/plain": [
       "['Python', 1, 2.5]"
      ]
     },
     "execution_count": 10,
     "metadata": {},
     "output_type": "execute_result"
    }
   ],
   "source": [
    "# 4 - Create a list that contains at least one string, one integer and one float.\n",
    "lst1 = ['Python', 1, 2.5]\n",
    "lst1"
   ]
  },
  {
   "cell_type": "code",
   "execution_count": 11,
   "id": "666c0513",
   "metadata": {},
   "outputs": [
    {
     "data": {
      "text/plain": [
       "{'Python': 1, 'Java': 2, 'C++': 3}"
      ]
     },
     "execution_count": 11,
     "metadata": {},
     "output_type": "execute_result"
    }
   ],
   "source": [
    "# 5 - Create a dictionary where all the keys are strings, and all the values are integers.\n",
    "dict1 = {'Python': 1, 'Java': 2, 'C++': 3}\n",
    "dict1"
   ]
  },
  {
   "cell_type": "code",
   "execution_count": 12,
   "id": "2b91c622",
   "metadata": {},
   "outputs": [
    {
     "data": {
      "text/plain": [
       "['i', 's', 'M', 'p']"
      ]
     },
     "execution_count": 12,
     "metadata": {},
     "output_type": "execute_result"
    }
   ],
   "source": [
    "# 6 - Write an expression that would turn the string 'Mississippi' into a set of unique letters.\n",
    "str1 = 'Mississippi'\n",
    "list( set(str1) )"
   ]
  },
  {
   "cell_type": "code",
   "execution_count": 16,
   "id": "fbcfcbe6",
   "metadata": {},
   "outputs": [],
   "source": [
    "# 7 - Write a script that opens a file named 'test.txt' , writes 'Hello World'  to the file, then closes it.\n",
    "test = open('test.txt', 'w+')\n",
    "test.write('Hello World')\n",
    "test.close()"
   ]
  },
  {
   "cell_type": "code",
   "execution_count": 18,
   "id": "efe93e79",
   "metadata": {},
   "outputs": [
    {
     "name": "stdout",
     "output_type": "stream",
     "text": [
      "Hello World\n"
     ]
    }
   ],
   "source": [
    "# 9 - Write a function called myfunc that prints the string 'Hello World'.\n",
    "def myfunc():\n",
    "    print('Hello World')\n",
    "    \n",
    "myfunc()"
   ]
  },
  {
   "cell_type": "code",
   "execution_count": 21,
   "id": "2def0553",
   "metadata": {},
   "outputs": [
    {
     "name": "stdout",
     "output_type": "stream",
     "text": [
      "Hello Brandon\n"
     ]
    }
   ],
   "source": [
    "# 10 - Define a function called myfunc that takes in a name, and prints 'Hello Name‘\n",
    "def myfunc(name):\n",
    "    print(f'Hello {name}')\n",
    "    \n",
    "myfunc('Brandon')"
   ]
  },
  {
   "cell_type": "code",
   "execution_count": 22,
   "id": "24dfb11b",
   "metadata": {},
   "outputs": [
    {
     "data": {
      "text/plain": [
       "'Hello'"
      ]
     },
     "execution_count": 22,
     "metadata": {},
     "output_type": "execute_result"
    }
   ],
   "source": [
    "# 11 - Define a function called myfunc that takes in a Boolean value (True or False). If \n",
    "#      True, return 'Hello', and if False, return 'Goodbye‘\n",
    "def myfunc(boolean):\n",
    "    if boolean:\n",
    "        return 'Hello'\n",
    "    else:\n",
    "        return 'Goodbye'\n",
    "    \n",
    "myfunc(True)"
   ]
  },
  {
   "cell_type": "code",
   "execution_count": 23,
   "id": "53af2f14",
   "metadata": {},
   "outputs": [
    {
     "data": {
      "text/plain": [
       "1"
      ]
     },
     "execution_count": 23,
     "metadata": {},
     "output_type": "execute_result"
    }
   ],
   "source": [
    "# 12 - Define a function called myfunc that takes three arguments, x, y and z.If z is \n",
    "#      True, return x.  If z is False, return y.\n",
    "def myfunc(x, y, z):\n",
    "    if z:\n",
    "        return x\n",
    "    else:\n",
    "        return y\n",
    "    \n",
    "myfunc(1, 2, True)"
   ]
  },
  {
   "cell_type": "code",
   "execution_count": 24,
   "id": "aebabe78",
   "metadata": {},
   "outputs": [
    {
     "data": {
      "text/plain": [
       "9"
      ]
     },
     "execution_count": 24,
     "metadata": {},
     "output_type": "execute_result"
    }
   ],
   "source": [
    "# 13 - Define a function called myfunc that takes in two arguments and returns their \n",
    "#      sum.\n",
    "def myfunc(a, b):\n",
    "    return a + b\n",
    "\n",
    "myfunc(4, 5)"
   ]
  },
  {
   "cell_type": "code",
   "execution_count": 25,
   "id": "0af40b4d",
   "metadata": {},
   "outputs": [
    {
     "data": {
      "text/plain": [
       "True"
      ]
     },
     "execution_count": 25,
     "metadata": {},
     "output_type": "execute_result"
    }
   ],
   "source": [
    "# 14 - Define a function called is_even that takes in one argument, and returns True \n",
    "#      if the passed-in value is even, False if it is not.\n",
    "def is_even(num):\n",
    "    if num % 2 == 0:\n",
    "        return True\n",
    "    else:\n",
    "        return False\n",
    "    \n",
    "is_even(4)"
   ]
  },
  {
   "cell_type": "code",
   "execution_count": 28,
   "id": "c174cda0",
   "metadata": {},
   "outputs": [
    {
     "data": {
      "text/plain": [
       "True"
      ]
     },
     "execution_count": 28,
     "metadata": {},
     "output_type": "execute_result"
    }
   ],
   "source": [
    "# 15 - Define a function called is_greater that takes in two arguments, and returns \n",
    "#      True if the first value is greater than the second, False if it is less than or \n",
    "#      equal to the second.\n",
    "def is_greater(num1, num2):\n",
    "    if num1 > num2:\n",
    "        return True\n",
    "    return False\n",
    "\n",
    "is_greater(5,4)"
   ]
  },
  {
   "cell_type": "code",
   "execution_count": 30,
   "id": "5049f515",
   "metadata": {},
   "outputs": [
    {
     "data": {
      "text/plain": [
       "15"
      ]
     },
     "execution_count": 30,
     "metadata": {},
     "output_type": "execute_result"
    }
   ],
   "source": [
    "# 16 - Define a function called myfunc that takes in an arbitrary number of \n",
    "#      arguments, and returns the sum of those arguments.\n",
    "def myfunc(*args):\n",
    "    num_sum = 0\n",
    "    for x in args:\n",
    "        num_sum += x\n",
    "        \n",
    "    return num_sum\n",
    "\n",
    "myfunc(4, 5, 6)"
   ]
  },
  {
   "cell_type": "code",
   "execution_count": 32,
   "id": "15936b94",
   "metadata": {},
   "outputs": [
    {
     "data": {
      "text/plain": [
       "[2, 4, 6]"
      ]
     },
     "execution_count": 32,
     "metadata": {},
     "output_type": "execute_result"
    }
   ],
   "source": [
    "# 17 - Define a function called myfunc that takes in an arbitrary number of \n",
    "#      arguments, and returns a list containing only those arguments that are even.\n",
    "def myfunc(*args):\n",
    "    lst = []\n",
    "    \n",
    "    for x in args:\n",
    "        if x % 2 == 0:\n",
    "            lst.append(x)\n",
    "        \n",
    "    return lst\n",
    "\n",
    "myfunc(1, 2, 3, 4, 5, 6)"
   ]
  },
  {
   "cell_type": "code",
   "execution_count": 41,
   "id": "1d82a1a7",
   "metadata": {},
   "outputs": [
    {
     "data": {
      "text/plain": [
       "'SpOnGeBoB'"
      ]
     },
     "execution_count": 41,
     "metadata": {},
     "output_type": "execute_result"
    }
   ],
   "source": [
    "'''\n",
    "18 - Define a function called myfunc that takes in a string, and returns a \n",
    "matching string where every even letter is uppercase, and every odd letter \n",
    "is lowercase. Assume that the incoming string only contains letters, and \n",
    "don't worry about numbers, spaces or punctuation. The output string can \n",
    "start with either an uppercase or lowercase letter, so long as letters \n",
    "alternate throughout the string.\n",
    "'''\n",
    "def myfunc(str1):\n",
    "    new_str = ''\n",
    "    x = 0\n",
    "    \n",
    "    while x < len(str1):\n",
    "        if x % 2 == 0:\n",
    "            new_str += str1[x].upper()\n",
    "        else:\n",
    "            new_str += str1[x].lower()\n",
    "            \n",
    "        x += 1\n",
    "            \n",
    "    return new_str\n",
    "\n",
    "myfunc('Spongebob')"
   ]
  }
 ],
 "metadata": {
  "kernelspec": {
   "display_name": "Python 3 (ipykernel)",
   "language": "python",
   "name": "python3"
  },
  "language_info": {
   "codemirror_mode": {
    "name": "ipython",
    "version": 3
   },
   "file_extension": ".py",
   "mimetype": "text/x-python",
   "name": "python",
   "nbconvert_exporter": "python",
   "pygments_lexer": "ipython3",
   "version": "3.9.13"
  }
 },
 "nbformat": 4,
 "nbformat_minor": 5
}
